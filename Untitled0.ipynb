{
  "nbformat": 4,
  "nbformat_minor": 0,
  "metadata": {
    "colab": {
      "provenance": [],
      "authorship_tag": "ABX9TyNsPudN6/z1Y55oNLsOAcM3",
      "include_colab_link": true
    },
    "kernelspec": {
      "name": "python3",
      "display_name": "Python 3"
    },
    "language_info": {
      "name": "python"
    }
  },
  "cells": [
    {
      "cell_type": "markdown",
      "metadata": {
        "id": "view-in-github",
        "colab_type": "text"
      },
      "source": [
        "<a href=\"https://colab.research.google.com/github/VaishnaviBairagoni/AIML-Lab/blob/main/Untitled0.ipynb\" target=\"_parent\"><img src=\"https://colab.research.google.com/assets/colab-badge.svg\" alt=\"Open In Colab\"/></a>"
      ]
    },
    {
      "cell_type": "code",
      "execution_count": 15,
      "metadata": {
        "colab": {
          "base_uri": "https://localhost:8080/"
        },
        "id": "OALEv1V6jYkS",
        "outputId": "5dc4d7ed-adb7-4186-e9fd-c7a26a2d9286"
      },
      "outputs": [
        {
          "output_type": "stream",
          "name": "stdout",
          "text": [
            "List: [10, 20, 30, 40, 50]\n",
            "Array1: [10 20 30 40 50]\n",
            "Array2: [ 60  70  80  90 100]\n",
            "Addition of Arrays: [ 70  90 110 130 150]\n",
            "Multiplication: [ 600 1400 2400 3600 5000]\n",
            "Division: [0.16666667 0.28571429 0.375      0.44444444 0.5       ]\n",
            "poweroff: [1152921504606846976                   0                   0\n",
            "                   0                   0]\n",
            "Type: <class 'list'>\n",
            "Type: <class 'numpy.ndarray'>\n",
            "sin(arr1): [-0.54402111  0.91294525 -0.98803162  0.74511316 -0.26237485]\n",
            "log(arr2): [4.09434456 4.24849524 4.38202663 4.49980967 4.60517019]\n",
            "log2(): [3.32192809 4.32192809 4.9068906  5.32192809 5.64385619]\n",
            "exp(): [2.20264658e+04 4.85165195e+08 1.06864746e+13 2.35385267e+17\n",
            " 5.18470553e+21]\n",
            "Textual Array: ['Vaishnavi' 'Bairagoni']\n"
          ]
        }
      ],
      "source": [
        "import numpy as np\n",
        "\n",
        "a=[10,20,30,40,50]\n",
        "print(\"List:\",a)\n",
        "arr1=np.array([10,20,30,40,50])\n",
        "arr2=np.array([60,70,80,90,100])\n",
        "c=arr1+arr2\n",
        "print(\"Array1:\",arr1)\n",
        "print(\"Array2:\",arr2)\n",
        "print(\"Addition of Arrays:\",c)\n",
        "d=arr1*arr2\n",
        "print(\"Multiplication:\",d)\n",
        "e=arr1/arr2\n",
        "print(\"Division:\",e)\n",
        "b=arr1**arr2\n",
        "print(\"poweroff:\",b)\n",
        "print (\"Type:\",type(a))\n",
        "print (\"Type:\",type(arr1))\n",
        "n=np.sin(arr1)\n",
        "print(\"sin(arr1):\",n)\n",
        "p=np.log(arr2)\n",
        "print(\"log(arr2):\",p)\n",
        "q=np.log2(arr1)\n",
        "print(\"log2():\",q)\n",
        "z=np.exp(arr1)\n",
        "print(\"exp():\",z)\n",
        "str_arr1=np.array([\"Vaishnavi\"])\n",
        "str_arr2=np.array([\"Bairagoni\"])\n",
        "r=np.append( str_arr1,str_arr2)\n",
        "print(\"Textual Array:\",r)"
      ]
    }
  ]
}